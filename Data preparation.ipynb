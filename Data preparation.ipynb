{
 "cells": [
  {
   "cell_type": "code",
   "execution_count": null,
   "id": "b8e812eb",
   "metadata": {},
   "outputs": [],
   "source": [
    "import warnings\n",
    "import os\n",
    "import scanpy as sc\n",
    "import anndata as an\n",
    "import pandas as pd\n",
    "import numpy as np\n",
    "import matplotlib as mpl\n",
    "import matplotlib.pyplot as plt\n",
    "import seaborn as sns\n",
    "import scanorama\n",
    "import tarfile\n",
    "\n",
    "from urllib import request\n",
    "from tqdm import tqdm"
   ]
  },
  {
   "cell_type": "code",
   "execution_count": null,
   "id": "cc25663d",
   "metadata": {},
   "outputs": [],
   "source": [
    "#sc.logging.print_versions() # gives errror!!\n",
    "sc.set_figure_params(facecolor=\"white\", figsize=(8, 8))\n",
    "sc.settings.verbosity = 3 # verbosity: errors (0), warnings (1), info (2), hints (3)\n",
    "warnings.simplefilter(action='ignore', category=FutureWarning)"
   ]
  },
  {
   "cell_type": "code",
   "execution_count": null,
   "id": "c1796aae",
   "metadata": {},
   "outputs": [],
   "source": [
    "\n",
    "# Create directory for downloading data\n",
    "for i in ['results','data']:\n",
    "    for j in ['single_cell','spatial_transcriptomics','in_situ_sequencing']:\n",
    "        os.makedirs( './'+i+'/'+j , exist_ok= True )"
   ]
  },
  {
   "cell_type": "markdown",
   "id": "0fad0b04",
   "metadata": {},
   "source": [
    "### Download Cell Cycle genes"
   ]
  },
  {
   "cell_type": "code",
   "execution_count": null,
   "id": "56753a01",
   "metadata": {},
   "outputs": [],
   "source": [
    "\n",
    "from urllib import request\n",
    "request.urlretrieve( 'https://raw.githubusercontent.com/scverse/scanpy_usage/master/180209_cell_cycle/data/regev_lab_cell_cycle_genes.txt' , './results/regev_lab_cell_cycle_genes.txt' )\n"
   ]
  },
  {
   "cell_type": "markdown",
   "id": "1dd7729c",
   "metadata": {},
   "source": [
    "### Single cell\n"
   ]
  },
  {
   "cell_type": "code",
   "execution_count": null,
   "id": "5b936f3b",
   "metadata": {},
   "outputs": [],
   "source": [
    "# Define base URL path to the data\n",
    "base_path = 'https://export.uppmax.uu.se/snic2022-23-113/courses/spatial_omics_2022/single_cell/'\n",
    "\n",
    "# Download each dataset\n",
    "for i in ['10X151w1','10X180w1','10x289w3','10x303w3']:\n",
    "    tmp = 'Sountoulidis2022_'+i+'_counts.h5'\n",
    "    request.urlretrieve( base_path+tmp , './data/single_cell/'+tmp )"
   ]
  },
  {
   "cell_type": "code",
   "execution_count": null,
   "id": "018a881d",
   "metadata": {},
   "outputs": [],
   "source": [
    "%%bash\n",
    "tree ./data/single_cell"
   ]
  },
  {
   "cell_type": "code",
   "execution_count": null,
   "id": "c3c234cf",
   "metadata": {},
   "outputs": [],
   "source": [
    "# Define paths and get sample_ids\n",
    "obj_list = list()\n",
    "file_list = os.listdir('./data/single_cell')\n",
    "sample_ids = [j.replace('_counts.h5','') for j in [x.replace('Sountoulidis2022_','') for x in file_list]]\n",
    "\n",
    "# Read each table and append to our list\n",
    "for i in range(0,len(file_list)):\n",
    "    print(i)\n",
    "    tmp = sc.read_10x_h5('./data/single_cell/'+file_list[i])\n",
    "    tmp.var_names_make_unique()\n",
    "    tmp.obs['sample_id'] = sample_ids[i]\n",
    "    obj_list.append(tmp)"
   ]
  },
  {
   "cell_type": "code",
   "execution_count": null,
   "id": "accd2ccd",
   "metadata": {},
   "outputs": [],
   "source": [
    "# Merge all samples into a single AnnData Object \n",
    "adata = an.concat( obj_list , merge='same' )\n",
    "adata"
   ]
  },
  {
   "cell_type": "code",
   "execution_count": null,
   "id": "5dc6cbd8",
   "metadata": {},
   "outputs": [],
   "source": [
    "os.makedirs('./results/single_cell', exist_ok=True)\n",
    "adata.write_h5ad('./results/single_cell/scRNAseq.h5ad' )"
   ]
  },
  {
   "cell_type": "code",
   "execution_count": null,
   "id": "eb4be287",
   "metadata": {},
   "outputs": [],
   "source": [
    "# Remove other objects from memory\n",
    "del(obj_list,file_list,sample_ids,adata)"
   ]
  },
  {
   "cell_type": "markdown",
   "id": "5f21a2af",
   "metadata": {},
   "source": [
    "### Spatial Transcriptomics"
   ]
  },
  {
   "cell_type": "code",
   "execution_count": null,
   "id": "9fb4459c",
   "metadata": {},
   "outputs": [],
   "source": [
    "# Define base URL path to the data\n",
    "base_path = 'https://export.uppmax.uu.se/snic2022-23-113/courses/spatial_omics_2022/spatial_transcriptomics/'    \n",
    "\n",
    "# For each dataset do:\n",
    "for j in ['154441','154442']:\n",
    "    \n",
    "    # Create directory for the dataset\n",
    "    os.makedirs( './data/spatial_transcriptomics/'+j+'/spatial' , exist_ok= True )\n",
    "    ss='/spatial/'\n",
    "    \n",
    "    # Download necessary files in their respective folder\n",
    "    for i in [j+'/filtered_feature_bc_matrix.h5',\n",
    "              j+ss+'tissue_lowres_image.png',\n",
    "              j+ss+'tissue_hires_image.png',\n",
    "              j+ss+'tissue_positions_list.txt',\n",
    "              j+ss+'scalefactors_json.json']:\n",
    "        request.urlretrieve( base_path+i , './data/spatial_transcriptomics/'+i.replace('.txt','.csv')  )"
   ]
  },
  {
   "cell_type": "code",
   "execution_count": null,
   "id": "9c6fdfac",
   "metadata": {},
   "outputs": [],
   "source": [
    "%%bash\n",
    "tree ../data/spatial_transcriptomics"
   ]
  },
  {
   "cell_type": "code",
   "execution_count": 15,
   "id": "752190ea",
   "metadata": {},
   "outputs": [
    {
     "data": {
      "text/plain": [
       "['154441', '154442']"
      ]
     },
     "execution_count": 15,
     "metadata": {},
     "output_type": "execute_result"
    }
   ],
   "source": [
    "# Define paths and get sample_ids\n",
    "obj_list = list()\n",
    "file_list = os.listdir('./data/spatial_transcriptomics')\n",
    "file_list"
   ]
  },
  {
   "cell_type": "code",
   "execution_count": 16,
   "id": "6c8aaf5d",
   "metadata": {},
   "outputs": [
    {
     "name": "stdout",
     "output_type": "stream",
     "text": [
      "0\n",
      "reading data\\spatial_transcriptomics\\154441\\filtered_feature_bc_matrix.h5\n",
      " (0:00:00)\n"
     ]
    },
    {
     "name": "stderr",
     "output_type": "stream",
     "text": [
      "C:\\Users\\Mujtaba Barci\\anaconda3\\lib\\site-packages\\anndata\\_core\\anndata.py:1830: UserWarning: Variable names are not unique. To make them unique, call `.var_names_make_unique`.\n",
      "  utils.warn_names_duplicates(\"var\")\n"
     ]
    },
    {
     "name": "stdout",
     "output_type": "stream",
     "text": [
      "1\n",
      "reading data\\spatial_transcriptomics\\154442\\filtered_feature_bc_matrix.h5\n",
      " (0:00:00)\n"
     ]
    },
    {
     "name": "stderr",
     "output_type": "stream",
     "text": [
      "C:\\Users\\Mujtaba Barci\\anaconda3\\lib\\site-packages\\anndata\\_core\\anndata.py:1830: UserWarning: Variable names are not unique. To make them unique, call `.var_names_make_unique`.\n",
      "  utils.warn_names_duplicates(\"var\")\n"
     ]
    }
   ],
   "source": [
    "# Read each table and append to our list\n",
    "for i in range(0,len(file_list)):\n",
    "    print(i)\n",
    "    tmp = sc.read_visium('./data/spatial_transcriptomics/'+file_list[i])\n",
    "    tmp.var_names_make_unique()\n",
    "    tmp.obs['sample_id'] = file_list[i]\n",
    "    obj_list.append(tmp)"
   ]
  },
  {
   "cell_type": "code",
   "execution_count": 17,
   "id": "5ab594b8",
   "metadata": {},
   "outputs": [
    {
     "name": "stderr",
     "output_type": "stream",
     "text": [
      "C:\\Users\\Mujtaba Barci\\anaconda3\\lib\\site-packages\\anndata\\_core\\anndata.py:1828: UserWarning: Observation names are not unique. To make them unique, call `.obs_names_make_unique`.\n",
      "  utils.warn_names_duplicates(\"obs\")\n"
     ]
    }
   ],
   "source": [
    "# Merge all samples into a single AnnData Object \n",
    "adata = an.concat( obj_list , merge='same',uns_merge=\"unique\" )\n",
    "adata.var_names_make_unique()"
   ]
  }
 ],
 "metadata": {
  "kernelspec": {
   "display_name": "Python 3 (ipykernel)",
   "language": "python",
   "name": "python3"
  },
  "language_info": {
   "codemirror_mode": {
    "name": "ipython",
    "version": 3
   },
   "file_extension": ".py",
   "mimetype": "text/x-python",
   "name": "python",
   "nbconvert_exporter": "python",
   "pygments_lexer": "ipython3",
   "version": "3.9.12"
  }
 },
 "nbformat": 4,
 "nbformat_minor": 5
}
