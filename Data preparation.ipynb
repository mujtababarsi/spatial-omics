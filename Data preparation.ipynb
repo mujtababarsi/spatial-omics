{
 "cells": [
  {
   "cell_type": "code",
   "execution_count": null,
   "id": "3c50252d",
   "metadata": {},
   "outputs": [],
   "source": [
    "import warnings\n",
    "import os\n",
    "import scanpy as sc\n",
    "import anndata as an\n",
    "import pandas as pd\n",
    "import numpy as np\n",
    "import matplotlib as mpl\n",
    "import matplotlib.pyplot as plt\n",
    "import seaborn as sns\n",
    "import scanorama\n",
    "import tarfile\n",
    "\n",
    "from urllib import request\n",
    "from tqdm import tqdm"
   ]
  },
  {
   "cell_type": "code",
   "execution_count": null,
   "id": "56790927",
   "metadata": {},
   "outputs": [],
   "source": [
    "#sc.logging.print_versions() # gives errror!!\n",
    "sc.set_figure_params(facecolor=\"white\", figsize=(8, 8))\n",
    "sc.settings.verbosity = 3 # verbosity: errors (0), warnings (1), info (2), hints (3)\n",
    "warnings.simplefilter(action='ignore', category=FutureWarning)"
   ]
  },
  {
   "cell_type": "code",
   "execution_count": null,
   "id": "cf5f7b6f",
   "metadata": {},
   "outputs": [],
   "source": [
    "\n",
    "# Create directory for downloading data\n",
    "for i in ['results','data']:\n",
    "    for j in ['single_cell','spatial_transcriptomics','in_situ_sequencing']:\n",
    "        os.makedirs( './'+i+'/'+j , exist_ok= True )"
   ]
  },
  {
   "cell_type": "markdown",
   "id": "c1e7751e",
   "metadata": {},
   "source": [
    "### Download Cell Cycle genes"
   ]
  },
  {
   "cell_type": "code",
   "execution_count": null,
   "id": "819727dd",
   "metadata": {},
   "outputs": [],
   "source": [
    "\n",
    "from urllib import request\n",
    "request.urlretrieve( 'https://raw.githubusercontent.com/scverse/scanpy_usage/master/180209_cell_cycle/data/regev_lab_cell_cycle_genes.txt' , './results/regev_lab_cell_cycle_genes.txt' )\n"
   ]
  },
  {
   "cell_type": "markdown",
   "id": "b824df27",
   "metadata": {},
   "source": [
    "### Single cell\n"
   ]
  },
  {
   "cell_type": "code",
   "execution_count": null,
   "id": "ff148305",
   "metadata": {},
   "outputs": [],
   "source": [
    "# Define base URL path to the data\n",
    "base_path = 'https://export.uppmax.uu.se/snic2022-23-113/courses/spatial_omics_2022/single_cell/'\n",
    "\n",
    "# Download each dataset\n",
    "for i in ['10X151w1','10X180w1','10x289w3','10x303w3']:\n",
    "    tmp = 'Sountoulidis2022_'+i+'_counts.h5'\n",
    "    request.urlretrieve( base_path+tmp , './data/single_cell/'+tmp )"
   ]
  },
  {
   "cell_type": "code",
   "execution_count": null,
   "id": "439eb2b2",
   "metadata": {},
   "outputs": [],
   "source": [
    "%%bash\n",
    "tree ./data/single_cell"
   ]
  },
  {
   "cell_type": "code",
   "execution_count": null,
   "id": "5d147657",
   "metadata": {},
   "outputs": [],
   "source": [
    "# Define paths and get sample_ids\n",
    "obj_list = list()\n",
    "file_list = os.listdir('./data/single_cell')\n",
    "sample_ids = [j.replace('_counts.h5','') for j in [x.replace('Sountoulidis2022_','') for x in file_list]]\n",
    "\n",
    "# Read each table and append to our list\n",
    "for i in range(0,len(file_list)):\n",
    "    print(i)\n",
    "    tmp = sc.read_10x_h5('./data/single_cell/'+file_list[i])\n",
    "    tmp.var_names_make_unique()\n",
    "    tmp.obs['sample_id'] = sample_ids[i]\n",
    "    obj_list.append(tmp)"
   ]
  },
  {
   "cell_type": "code",
   "execution_count": null,
   "id": "69b4ddc0",
   "metadata": {},
   "outputs": [],
   "source": [
    "# Merge all samples into a single AnnData Object \n",
    "adata = an.concat( obj_list , merge='same' )\n",
    "adata"
   ]
  },
  {
   "cell_type": "code",
   "execution_count": null,
   "id": "486369d4",
   "metadata": {},
   "outputs": [],
   "source": [
    "os.makedirs('./results/single_cell', exist_ok=True)\n",
    "adata.write_h5ad('./results/single_cell/scRNAseq.h5ad' )"
   ]
  },
  {
   "cell_type": "code",
   "execution_count": null,
   "id": "9150183f",
   "metadata": {},
   "outputs": [],
   "source": [
    "# Remove other objects from memory\n",
    "del(obj_list,file_list,sample_ids,adata)"
   ]
  },
  {
   "cell_type": "markdown",
   "id": "82cd94f8",
   "metadata": {},
   "source": [
    "### Spatial Transcriptomics"
   ]
  },
  {
   "cell_type": "code",
   "execution_count": null,
   "id": "96ea2cf2",
   "metadata": {},
   "outputs": [],
   "source": [
    "# Define base URL path to the data\n",
    "base_path = 'https://export.uppmax.uu.se/snic2022-23-113/courses/spatial_omics_2022/spatial_transcriptomics/'    \n",
    "\n",
    "# For each dataset do:\n",
    "for j in ['154441','154442']:\n",
    "    \n",
    "    # Create directory for the dataset\n",
    "    os.makedirs( './data/spatial_transcriptomics/'+j+'/spatial' , exist_ok= True )\n",
    "    ss='/spatial/'\n",
    "    \n",
    "    # Download necessary files in their respective folder\n",
    "    for i in [j+'/filtered_feature_bc_matrix.h5',\n",
    "              j+ss+'tissue_lowres_image.png',\n",
    "              j+ss+'tissue_hires_image.png',\n",
    "              j+ss+'tissue_positions_list.txt',\n",
    "              j+ss+'scalefactors_json.json']:\n",
    "        request.urlretrieve( base_path+i , './data/spatial_transcriptomics/'+i.replace('.txt','.csv')  )"
   ]
  },
  {
   "cell_type": "code",
   "execution_count": null,
   "id": "f18a61c5",
   "metadata": {},
   "outputs": [],
   "source": [
    "%%bash\n",
    "tree ../data/spatial_transcriptomics"
   ]
  },
  {
   "cell_type": "code",
   "execution_count": 15,
   "id": "3e6fa8c3",
   "metadata": {},
   "outputs": [
    {
     "data": {
      "text/plain": [
       "['154441', '154442']"
      ]
     },
     "execution_count": 15,
     "metadata": {},
     "output_type": "execute_result"
    }
   ],
   "source": [
    "# Define paths and get sample_ids\n",
    "obj_list = list()\n",
    "file_list = os.listdir('./data/spatial_transcriptomics')\n",
    "file_list"
   ]
  },
  {
   "cell_type": "code",
   "execution_count": 16,
   "id": "f80546f5",
   "metadata": {},
   "outputs": [
    {
     "name": "stdout",
     "output_type": "stream",
     "text": [
      "0\n",
      "reading data\\spatial_transcriptomics\\154441\\filtered_feature_bc_matrix.h5\n",
      " (0:00:00)\n"
     ]
    },
    {
     "name": "stderr",
     "output_type": "stream",
     "text": [
      "C:\\Users\\Mujtaba Barci\\anaconda3\\lib\\site-packages\\anndata\\_core\\anndata.py:1830: UserWarning: Variable names are not unique. To make them unique, call `.var_names_make_unique`.\n",
      "  utils.warn_names_duplicates(\"var\")\n"
     ]
    },
    {
     "name": "stdout",
     "output_type": "stream",
     "text": [
      "1\n",
      "reading data\\spatial_transcriptomics\\154442\\filtered_feature_bc_matrix.h5\n",
      " (0:00:00)\n"
     ]
    },
    {
     "name": "stderr",
     "output_type": "stream",
     "text": [
      "C:\\Users\\Mujtaba Barci\\anaconda3\\lib\\site-packages\\anndata\\_core\\anndata.py:1830: UserWarning: Variable names are not unique. To make them unique, call `.var_names_make_unique`.\n",
      "  utils.warn_names_duplicates(\"var\")\n"
     ]
    }
   ],
   "source": [
    "# Read each table and append to our list\n",
    "for i in range(0,len(file_list)):\n",
    "    print(i)\n",
    "    tmp = sc.read_visium('./data/spatial_transcriptomics/'+file_list[i])\n",
    "    tmp.var_names_make_unique()\n",
    "    tmp.obs['sample_id'] = file_list[i]\n",
    "    obj_list.append(tmp)"
   ]
  },
  {
   "cell_type": "code",
   "execution_count": 17,
   "id": "82d04106",
   "metadata": {},
   "outputs": [
    {
     "name": "stderr",
     "output_type": "stream",
     "text": [
      "C:\\Users\\Mujtaba Barci\\anaconda3\\lib\\site-packages\\anndata\\_core\\anndata.py:1828: UserWarning: Observation names are not unique. To make them unique, call `.obs_names_make_unique`.\n",
      "  utils.warn_names_duplicates(\"obs\")\n"
     ]
    }
   ],
   "source": [
    "# Merge all samples into a single AnnData Object \n",
    "adata = an.concat( obj_list , merge='same',uns_merge=\"unique\" )\n",
    "adata.var_names_make_unique()"
   ]
  },
  {
   "cell_type": "code",
   "execution_count": 19,
   "id": "11bc076b",
   "metadata": {},
   "outputs": [],
   "source": [
    "os.makedirs('./results/spatial_transcriptomics', exist_ok=True)\n",
    "adata.write_h5ad('./results/spatial_transcriptomics/visium.h5ad' )"
   ]
  },
  {
   "cell_type": "code",
   "execution_count": 20,
   "id": "3e289a3f",
   "metadata": {},
   "outputs": [],
   "source": [
    "# Remove other objects from memory\n",
    "del(obj_list,file_list,adata)"
   ]
  },
  {
   "cell_type": "markdown",
   "id": "06f7fd33",
   "metadata": {},
   "source": [
    "### In Situ Sequencing\n"
   ]
  },
  {
   "cell_type": "code",
   "execution_count": 21,
   "id": "7437c37c",
   "metadata": {},
   "outputs": [],
   "source": [
    "# Define base URL path to the data\n",
    "base_path = \"https://export.uppmax.uu.se/snic2022-23-113/courses/spatial_omics_2022/in_situ_sequencing/\"    \n",
    "\n",
    "# Create directory for the dataset\n",
    "os.makedirs( \"./data/in_situ_sequencing\" , exist_ok= True )"
   ]
  },
  {
   "cell_type": "code",
   "execution_count": 22,
   "id": "445d1f12",
   "metadata": {},
   "outputs": [
    {
     "name": "stdout",
     "output_type": "stream",
     "text": [
      "Downloading https://export.uppmax.uu.se/snic2022-23-113/courses/spatial_omics_2022/in_situ_sequencing/raw_4_tiles_with_z.tar.gz\n",
      "Downloading https://export.uppmax.uu.se/snic2022-23-113/courses/spatial_omics_2022/in_situ_sequencing/SpaceTX.tar.gz\n"
     ]
    }
   ],
   "source": [
    "# Download necessary tar.gz files\n",
    "for tar_file in [\"raw_4_tiles_with_z.tar.gz\",\"SpaceTX.tar.gz\"]:\n",
    "    print (\"Downloading \" + base_path + tar_file)\n",
    "    request.urlretrieve( base_path+tar_file , \"./data/in_situ_sequencing/\"+tar_file )"
   ]
  },
  {
   "cell_type": "code",
   "execution_count": null,
   "id": "959a2c27",
   "metadata": {},
   "outputs": [
    {
     "name": "stdout",
     "output_type": "stream",
     "text": [
      "Unzipping ./data/in_situ_sequencing/raw_4_tiles_with_z.tar.gz\n"
     ]
    }
   ],
   "source": [
    "# Unzip tar.gz files\n",
    "for tar_file in [\"raw_4_tiles_with_z.tar.gz\",\"SpaceTX.tar.gz\"]:\n",
    "    print (\"Unzipping \" + \"./data/in_situ_sequencing/\" + tar_file)\n",
    "    tar = tarfile.open(\"./data/in_situ_sequencing/\" + tar_file, \"r:gz\")\n",
    "    \n",
    "    progress = tqdm(tar.getmembers())\n",
    "    for member in progress:\n",
    "        tar.extract(member, path=\"./data/in_situ_sequencing/\")\n",
    "        # set the progress description of the progress bar\n",
    "        progress.set_description(f\"Extracting {member.name}\")\n",
    "    tar.close()"
   ]
  },
  {
   "cell_type": "code",
   "execution_count": null,
   "id": "08d5554d",
   "metadata": {},
   "outputs": [],
   "source": []
  }
 ],
 "metadata": {
  "kernelspec": {
   "display_name": "Python 3 (ipykernel)",
   "language": "python",
   "name": "python3"
  },
  "language_info": {
   "codemirror_mode": {
    "name": "ipython",
    "version": 3
   },
   "file_extension": ".py",
   "mimetype": "text/x-python",
   "name": "python",
   "nbconvert_exporter": "python",
   "pygments_lexer": "ipython3",
   "version": "3.9.12"
  }
 },
 "nbformat": 4,
 "nbformat_minor": 5
}
